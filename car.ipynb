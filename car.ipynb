{
 "cells": [
  {
   "cell_type": "code",
   "execution_count": 1,
   "metadata": {},
   "outputs": [],
   "source": [
    "import pandas as pd\n",
    "try:\n",
    "    df = pd.read_excel('FINAL_SPINNY_900.csv')\n",
    "except:\n",
    "    import xlwings as xw\n",
    "    df = xw.Book('FINAL_SPINNY_900.csv')\n",
    "    df = df.sheets(1).used_range.options(pd.DataFrame, index = False).value"
   ]
  },
  {
   "cell_type": "code",
   "execution_count": 2,
   "metadata": {},
   "outputs": [
    {
     "data": {
      "text/html": [
       "<div>\n",
       "<style scoped>\n",
       "    .dataframe tbody tr th:only-of-type {\n",
       "        vertical-align: middle;\n",
       "    }\n",
       "\n",
       "    .dataframe tbody tr th {\n",
       "        vertical-align: top;\n",
       "    }\n",
       "\n",
       "    .dataframe thead th {\n",
       "        text-align: right;\n",
       "    }\n",
       "</style>\n",
       "<table border=\"1\" class=\"dataframe\">\n",
       "  <thead>\n",
       "    <tr style=\"text-align: right;\">\n",
       "      <th></th>\n",
       "      <th>Car_Name</th>\n",
       "      <th>Make</th>\n",
       "      <th>Model</th>\n",
       "      <th>Make_Year</th>\n",
       "      <th>Color</th>\n",
       "      <th>Body_Type</th>\n",
       "      <th>Mileage_Run</th>\n",
       "      <th>No_of_Owners</th>\n",
       "      <th>Seating_Capacity</th>\n",
       "      <th>Fuel_Type</th>\n",
       "      <th>Fuel_Tank_Capacity(L)</th>\n",
       "      <th>Engine_Type</th>\n",
       "      <th>CC_Displacement</th>\n",
       "      <th>Transmission</th>\n",
       "      <th>Transmission_Type</th>\n",
       "      <th>Power(BHP)</th>\n",
       "      <th>Torque(Nm)</th>\n",
       "      <th>Mileage(kmpl)</th>\n",
       "      <th>Emission</th>\n",
       "      <th>Price</th>\n",
       "    </tr>\n",
       "  </thead>\n",
       "  <tbody>\n",
       "    <tr>\n",
       "      <th>0</th>\n",
       "      <td>Volkswagen Ameo [2016-2017] Highline 1.5L AT (D)</td>\n",
       "      <td>Volkswagen</td>\n",
       "      <td>Ameo</td>\n",
       "      <td>2017.0</td>\n",
       "      <td>silver</td>\n",
       "      <td>sedan</td>\n",
       "      <td>44611.0</td>\n",
       "      <td>1st</td>\n",
       "      <td>5.0</td>\n",
       "      <td>diesel</td>\n",
       "      <td>45.0</td>\n",
       "      <td>1.5L TDI Engine</td>\n",
       "      <td>1498.0</td>\n",
       "      <td>7-Speed</td>\n",
       "      <td>Automatic</td>\n",
       "      <td>109.00</td>\n",
       "      <td>250.00</td>\n",
       "      <td>21.66</td>\n",
       "      <td>BS IV</td>\n",
       "      <td>6,57,000</td>\n",
       "    </tr>\n",
       "    <tr>\n",
       "      <th>1</th>\n",
       "      <td>Hyundai i20 Active [2015-2020] 1.2 SX</td>\n",
       "      <td>Hyundai</td>\n",
       "      <td>i20 Active</td>\n",
       "      <td>2016.0</td>\n",
       "      <td>red</td>\n",
       "      <td>crossover</td>\n",
       "      <td>20305.0</td>\n",
       "      <td>1st</td>\n",
       "      <td>5.0</td>\n",
       "      <td>petrol</td>\n",
       "      <td>45.0</td>\n",
       "      <td>1.2L Kappa 5 Speed Manual Transmission</td>\n",
       "      <td>1197.0</td>\n",
       "      <td>5-Speed</td>\n",
       "      <td>Manual</td>\n",
       "      <td>82.00</td>\n",
       "      <td>115.00</td>\n",
       "      <td>17.19</td>\n",
       "      <td>BS V</td>\n",
       "      <td>6,82,000</td>\n",
       "    </tr>\n",
       "    <tr>\n",
       "      <th>2</th>\n",
       "      <td>Honda WR-V VX i-VTEC</td>\n",
       "      <td>Honda</td>\n",
       "      <td>WR-V</td>\n",
       "      <td>2019.0</td>\n",
       "      <td>white</td>\n",
       "      <td>suv</td>\n",
       "      <td>29540.0</td>\n",
       "      <td>2nd</td>\n",
       "      <td>5.0</td>\n",
       "      <td>petrol</td>\n",
       "      <td>40.0</td>\n",
       "      <td>i-VTEC Petrol engine</td>\n",
       "      <td>1199.0</td>\n",
       "      <td>5-Speed</td>\n",
       "      <td>Manual</td>\n",
       "      <td>88.50</td>\n",
       "      <td>110.00</td>\n",
       "      <td>16.5</td>\n",
       "      <td>BS IV</td>\n",
       "      <td>7,93,000</td>\n",
       "    </tr>\n",
       "    <tr>\n",
       "      <th>3</th>\n",
       "      <td>Renault Kwid 1.0 RXT AMT</td>\n",
       "      <td>Renault</td>\n",
       "      <td>Kwid</td>\n",
       "      <td>2017.0</td>\n",
       "      <td>bronze</td>\n",
       "      <td>hatchback</td>\n",
       "      <td>35680.0</td>\n",
       "      <td>1st</td>\n",
       "      <td>5.0</td>\n",
       "      <td>petrol</td>\n",
       "      <td>28.0</td>\n",
       "      <td>1.0L</td>\n",
       "      <td>999.0</td>\n",
       "      <td>5-Speed</td>\n",
       "      <td>Manual</td>\n",
       "      <td>67.00</td>\n",
       "      <td>91.00</td>\n",
       "      <td>21.7</td>\n",
       "      <td>BS IV</td>\n",
       "      <td>4,14,000</td>\n",
       "    </tr>\n",
       "    <tr>\n",
       "      <th>4</th>\n",
       "      <td>Hyundai Grand i10 [2017-2020] Asta 1.2 Kappa VTVT</td>\n",
       "      <td>Hyundai</td>\n",
       "      <td>Grand i10</td>\n",
       "      <td>2017.0</td>\n",
       "      <td>orange</td>\n",
       "      <td>hatchback</td>\n",
       "      <td>25126.0</td>\n",
       "      <td>1st</td>\n",
       "      <td>5.0</td>\n",
       "      <td>petrol</td>\n",
       "      <td>43.0</td>\n",
       "      <td>Kappa VTVT Petrol Engine</td>\n",
       "      <td>1197.0</td>\n",
       "      <td>5-Speed</td>\n",
       "      <td>Manual</td>\n",
       "      <td>81.86</td>\n",
       "      <td>113.75</td>\n",
       "      <td>18.9</td>\n",
       "      <td>BS V</td>\n",
       "      <td>5,15,000</td>\n",
       "    </tr>\n",
       "    <tr>\n",
       "      <th>...</th>\n",
       "      <td>...</td>\n",
       "      <td>...</td>\n",
       "      <td>...</td>\n",
       "      <td>...</td>\n",
       "      <td>...</td>\n",
       "      <td>...</td>\n",
       "      <td>...</td>\n",
       "      <td>...</td>\n",
       "      <td>...</td>\n",
       "      <td>...</td>\n",
       "      <td>...</td>\n",
       "      <td>...</td>\n",
       "      <td>...</td>\n",
       "      <td>...</td>\n",
       "      <td>...</td>\n",
       "      <td>...</td>\n",
       "      <td>...</td>\n",
       "      <td>...</td>\n",
       "      <td>...</td>\n",
       "      <td>...</td>\n",
       "    </tr>\n",
       "    <tr>\n",
       "      <th>971</th>\n",
       "      <td>Hyundai Verna [2017-2020] 1.6 VTVT SX</td>\n",
       "      <td>Hyundai</td>\n",
       "      <td>Verna</td>\n",
       "      <td>2018.0</td>\n",
       "      <td>white</td>\n",
       "      <td>sedan</td>\n",
       "      <td>23869.0</td>\n",
       "      <td>1st</td>\n",
       "      <td>5.0</td>\n",
       "      <td>petrol</td>\n",
       "      <td>43.0</td>\n",
       "      <td>Front Wheel Drive</td>\n",
       "      <td>1591.0</td>\n",
       "      <td>6-Speed</td>\n",
       "      <td>Automatic</td>\n",
       "      <td>121.00</td>\n",
       "      <td>158.00</td>\n",
       "      <td>17.4</td>\n",
       "      <td>BS V</td>\n",
       "      <td>9,56,000</td>\n",
       "    </tr>\n",
       "    <tr>\n",
       "      <th>972</th>\n",
       "      <td>Hyundai Verna [2017-2020] 1.6 VTVT SX</td>\n",
       "      <td>Hyundai</td>\n",
       "      <td>Verna</td>\n",
       "      <td>2019.0</td>\n",
       "      <td>white</td>\n",
       "      <td>sedan</td>\n",
       "      <td>14831.0</td>\n",
       "      <td>1st</td>\n",
       "      <td>5.0</td>\n",
       "      <td>petrol</td>\n",
       "      <td>43.0</td>\n",
       "      <td>Front Wheel Drive</td>\n",
       "      <td>1591.0</td>\n",
       "      <td>6-Speed</td>\n",
       "      <td>Automatic</td>\n",
       "      <td>121.00</td>\n",
       "      <td>158.00</td>\n",
       "      <td>17.4</td>\n",
       "      <td>BS V</td>\n",
       "      <td>10,27,000</td>\n",
       "    </tr>\n",
       "    <tr>\n",
       "      <th>973</th>\n",
       "      <td>Hyundai Verna [2011-2015] Fluidic 1.6 VTVT SX AT</td>\n",
       "      <td>Hyundai</td>\n",
       "      <td>Verna</td>\n",
       "      <td>2014.0</td>\n",
       "      <td>silver</td>\n",
       "      <td>sedan</td>\n",
       "      <td>52846.0</td>\n",
       "      <td>1st</td>\n",
       "      <td>5.0</td>\n",
       "      <td>petrol</td>\n",
       "      <td>43.0</td>\n",
       "      <td>Front Wheel Drive</td>\n",
       "      <td>1591.0</td>\n",
       "      <td>4-Speed</td>\n",
       "      <td>Automatic</td>\n",
       "      <td>121.00</td>\n",
       "      <td>158.00</td>\n",
       "      <td>17.01</td>\n",
       "      <td>BS III</td>\n",
       "      <td>7,36,000</td>\n",
       "    </tr>\n",
       "    <tr>\n",
       "      <th>974</th>\n",
       "      <td>Ford Freestyle [2020-2021] Flair Edition Diesel</td>\n",
       "      <td>Ford</td>\n",
       "      <td>Freestyle</td>\n",
       "      <td>2020.0</td>\n",
       "      <td>white</td>\n",
       "      <td>crossover</td>\n",
       "      <td>28335.0</td>\n",
       "      <td>2nd</td>\n",
       "      <td>5.0</td>\n",
       "      <td>diesel</td>\n",
       "      <td>42.0</td>\n",
       "      <td>1.5 litre Diesel Engine</td>\n",
       "      <td>1499.0</td>\n",
       "      <td>5-Speed</td>\n",
       "      <td>Automatic</td>\n",
       "      <td>98.96</td>\n",
       "      <td>215.00</td>\n",
       "      <td>18.5</td>\n",
       "      <td>BS V</td>\n",
       "      <td>7,49,000</td>\n",
       "    </tr>\n",
       "    <tr>\n",
       "      <th>975</th>\n",
       "      <td>Maruti Suzuki Ignis [2017-2020] Alpha AMT Petrol</td>\n",
       "      <td>Maruti Suzuki</td>\n",
       "      <td>Ignis</td>\n",
       "      <td>2018.0</td>\n",
       "      <td>silver</td>\n",
       "      <td>hatchback</td>\n",
       "      <td>41176.0</td>\n",
       "      <td>1st</td>\n",
       "      <td>5.0</td>\n",
       "      <td>petrol</td>\n",
       "      <td>32.0</td>\n",
       "      <td>1.2-Litre VVT Petrol Engine</td>\n",
       "      <td>1197.0</td>\n",
       "      <td>5-Speed</td>\n",
       "      <td>Automatic</td>\n",
       "      <td>81.80</td>\n",
       "      <td>113.00</td>\n",
       "      <td>20.89</td>\n",
       "      <td>BS V</td>\n",
       "      <td>6,91,000</td>\n",
       "    </tr>\n",
       "  </tbody>\n",
       "</table>\n",
       "<p>976 rows × 20 columns</p>\n",
       "</div>"
      ],
      "text/plain": [
       "                                              Car_Name           Make  \\\n",
       "0     Volkswagen Ameo [2016-2017] Highline 1.5L AT (D)     Volkswagen   \n",
       "1                Hyundai i20 Active [2015-2020] 1.2 SX        Hyundai   \n",
       "2                                 Honda WR-V VX i-VTEC          Honda   \n",
       "3                             Renault Kwid 1.0 RXT AMT        Renault   \n",
       "4    Hyundai Grand i10 [2017-2020] Asta 1.2 Kappa VTVT        Hyundai   \n",
       "..                                                 ...            ...   \n",
       "971              Hyundai Verna [2017-2020] 1.6 VTVT SX        Hyundai   \n",
       "972              Hyundai Verna [2017-2020] 1.6 VTVT SX        Hyundai   \n",
       "973   Hyundai Verna [2011-2015] Fluidic 1.6 VTVT SX AT        Hyundai   \n",
       "974    Ford Freestyle [2020-2021] Flair Edition Diesel           Ford   \n",
       "975   Maruti Suzuki Ignis [2017-2020] Alpha AMT Petrol  Maruti Suzuki   \n",
       "\n",
       "          Model  Make_Year   Color  Body_Type  Mileage_Run No_of_Owners  \\\n",
       "0          Ameo     2017.0  silver      sedan      44611.0          1st   \n",
       "1    i20 Active     2016.0     red  crossover      20305.0          1st   \n",
       "2          WR-V     2019.0   white        suv      29540.0          2nd   \n",
       "3          Kwid     2017.0  bronze  hatchback      35680.0          1st   \n",
       "4     Grand i10     2017.0  orange  hatchback      25126.0          1st   \n",
       "..          ...        ...     ...        ...          ...          ...   \n",
       "971       Verna     2018.0   white      sedan      23869.0          1st   \n",
       "972       Verna     2019.0   white      sedan      14831.0          1st   \n",
       "973       Verna     2014.0  silver      sedan      52846.0          1st   \n",
       "974   Freestyle     2020.0   white  crossover      28335.0          2nd   \n",
       "975       Ignis     2018.0  silver  hatchback      41176.0          1st   \n",
       "\n",
       "     Seating_Capacity Fuel_Type  Fuel_Tank_Capacity(L)  \\\n",
       "0                 5.0    diesel                   45.0   \n",
       "1                 5.0    petrol                   45.0   \n",
       "2                 5.0    petrol                   40.0   \n",
       "3                 5.0    petrol                   28.0   \n",
       "4                 5.0    petrol                   43.0   \n",
       "..                ...       ...                    ...   \n",
       "971               5.0    petrol                   43.0   \n",
       "972               5.0    petrol                   43.0   \n",
       "973               5.0    petrol                   43.0   \n",
       "974               5.0    diesel                   42.0   \n",
       "975               5.0    petrol                   32.0   \n",
       "\n",
       "                                Engine_Type  CC_Displacement Transmission  \\\n",
       "0                           1.5L TDI Engine           1498.0      7-Speed   \n",
       "1    1.2L Kappa 5 Speed Manual Transmission           1197.0      5-Speed   \n",
       "2                      i-VTEC Petrol engine           1199.0      5-Speed   \n",
       "3                                      1.0L            999.0      5-Speed   \n",
       "4                  Kappa VTVT Petrol Engine           1197.0      5-Speed   \n",
       "..                                      ...              ...          ...   \n",
       "971                       Front Wheel Drive           1591.0      6-Speed   \n",
       "972                       Front Wheel Drive           1591.0      6-Speed   \n",
       "973                       Front Wheel Drive           1591.0      4-Speed   \n",
       "974                 1.5 litre Diesel Engine           1499.0      5-Speed   \n",
       "975             1.2-Litre VVT Petrol Engine           1197.0      5-Speed   \n",
       "\n",
       "    Transmission_Type  Power(BHP)  Torque(Nm) Mileage(kmpl) Emission  \\\n",
       "0           Automatic      109.00      250.00         21.66    BS IV   \n",
       "1              Manual       82.00      115.00         17.19     BS V   \n",
       "2              Manual       88.50      110.00          16.5    BS IV   \n",
       "3              Manual       67.00       91.00          21.7    BS IV   \n",
       "4              Manual       81.86      113.75          18.9     BS V   \n",
       "..                ...         ...         ...           ...      ...   \n",
       "971         Automatic      121.00      158.00          17.4     BS V   \n",
       "972         Automatic      121.00      158.00          17.4     BS V   \n",
       "973         Automatic      121.00      158.00         17.01   BS III   \n",
       "974         Automatic       98.96      215.00          18.5     BS V   \n",
       "975         Automatic       81.80      113.00         20.89     BS V   \n",
       "\n",
       "         Price  \n",
       "0     6,57,000  \n",
       "1     6,82,000  \n",
       "2     7,93,000  \n",
       "3     4,14,000  \n",
       "4     5,15,000  \n",
       "..         ...  \n",
       "971   9,56,000  \n",
       "972  10,27,000  \n",
       "973   7,36,000  \n",
       "974   7,49,000  \n",
       "975   6,91,000  \n",
       "\n",
       "[976 rows x 20 columns]"
      ]
     },
     "execution_count": 2,
     "metadata": {},
     "output_type": "execute_result"
    }
   ],
   "source": [
    "df"
   ]
  },
  {
   "cell_type": "code",
   "execution_count": 3,
   "metadata": {},
   "outputs": [
    {
     "name": "stdout",
     "output_type": "stream",
     "text": [
      "<class 'pandas.core.frame.DataFrame'>\n",
      "RangeIndex: 976 entries, 0 to 975\n",
      "Data columns (total 20 columns):\n",
      " #   Column                 Non-Null Count  Dtype  \n",
      "---  ------                 --------------  -----  \n",
      " 0   Car_Name               976 non-null    object \n",
      " 1   Make                   976 non-null    object \n",
      " 2   Model                  976 non-null    object \n",
      " 3   Make_Year              976 non-null    float64\n",
      " 4   Color                  976 non-null    object \n",
      " 5   Body_Type              976 non-null    object \n",
      " 6   Mileage_Run            976 non-null    float64\n",
      " 7   No_of_Owners           976 non-null    object \n",
      " 8   Seating_Capacity       976 non-null    float64\n",
      " 9   Fuel_Type              976 non-null    object \n",
      " 10  Fuel_Tank_Capacity(L)  976 non-null    float64\n",
      " 11  Engine_Type            976 non-null    object \n",
      " 12  CC_Displacement        976 non-null    float64\n",
      " 13  Transmission           976 non-null    object \n",
      " 14  Transmission_Type      976 non-null    object \n",
      " 15  Power(BHP)             976 non-null    float64\n",
      " 16  Torque(Nm)             976 non-null    float64\n",
      " 17  Mileage(kmpl)          976 non-null    object \n",
      " 18  Emission               976 non-null    object \n",
      " 19  Price                  976 non-null    object \n",
      "dtypes: float64(7), object(13)\n",
      "memory usage: 152.6+ KB\n"
     ]
    }
   ],
   "source": [
    "df.info()"
   ]
  },
  {
   "cell_type": "code",
   "execution_count": 4,
   "metadata": {},
   "outputs": [
    {
     "data": {
      "text/plain": [
       "Car_Name                 0\n",
       "Make                     0\n",
       "Model                    0\n",
       "Make_Year                0\n",
       "Color                    0\n",
       "Body_Type                0\n",
       "Mileage_Run              0\n",
       "No_of_Owners             0\n",
       "Seating_Capacity         0\n",
       "Fuel_Type                0\n",
       "Fuel_Tank_Capacity(L)    0\n",
       "Engine_Type              0\n",
       "CC_Displacement          0\n",
       "Transmission             0\n",
       "Transmission_Type        0\n",
       "Power(BHP)               0\n",
       "Torque(Nm)               0\n",
       "Mileage(kmpl)            0\n",
       "Emission                 0\n",
       "Price                    0\n",
       "dtype: int64"
      ]
     },
     "execution_count": 4,
     "metadata": {},
     "output_type": "execute_result"
    }
   ],
   "source": [
    "df.isnull().sum()"
   ]
  },
  {
   "cell_type": "code",
   "execution_count": 6,
   "metadata": {},
   "outputs": [
    {
     "data": {
      "text/plain": [
       "<AxesSubplot:>"
      ]
     },
     "execution_count": 6,
     "metadata": {},
     "output_type": "execute_result"
    },
    {
     "data": {
      "image/png": "[encoded data removed]",
      "text/plain": [
       "<Figure size 640x480 with 1 Axes>"
      ]
     },
     "metadata": {},
     "output_type": "display_data"
    }
   ],
   "source": [
    "df['Make'].value_counts().plot.bar()"
   ]
  },
  {
   "cell_type": "code",
   "execution_count": 11,
   "metadata": {},
   "outputs": [
    {
     "data": {
      "text/plain": [
       "<AxesSubplot:>"
      ]
     },
     "execution_count": 11,
     "metadata": {},
     "output_type": "execute_result"
    },
    {
     "data": {
      "image/png": "[encoded data removed]",
      "text/plain": [
       "<Figure size 640x480 with 1 Axes>"
      ]
     },
     "metadata": {},
     "output_type": "display_data"
    }
   ],
   "source": [
    "df['Model'].value_counts()[:10].plot.bar()"
   ]
  },
  {
   "cell_type": "code",
   "execution_count": 12,
   "metadata": {},
   "outputs": [
    {
     "data": {
      "text/plain": [
       "<AxesSubplot:>"
      ]
     },
     "execution_count": 12,
     "metadata": {},
     "output_type": "execute_result"
    },
    {
     "data": {
      "image/png": "[encoded data removed]",
      "text/plain": [
       "<Figure size 640x480 with 1 Axes>"
      ]
     },
     "metadata": {},
     "output_type": "display_data"
    }
   ],
   "source": [
    "df['Color'].value_counts().plot.bar()"
   ]
  },
  {
   "cell_type": "code",
   "execution_count": 16,
   "metadata": {},
   "outputs": [],
   "source": [
    "for i in range(df.shape[0]):\n",
    "    df.loc[i, 'Transmission'] = df['Transmission'][i][:1]"
   ]
  },
  {
   "cell_type": "code",
   "execution_count": 19,
   "metadata": {},
   "outputs": [
    {
     "data": {
      "text/plain": [
       "<AxesSubplot:ylabel='Transmission'>"
      ]
     },
     "execution_count": 19,
     "metadata": {},
     "output_type": "execute_result"
    },
    {
     "data": {
      "image/png": "[encoded data removed]",
      "text/plain": [
       "<Figure size 640x480 with 1 Axes>"
      ]
     },
     "metadata": {},
     "output_type": "display_data"
    }
   ],
   "source": [
    "df['Transmission'].value_counts().plot.pie()"
   ]
  },
  {
   "cell_type": "code",
   "execution_count": 20,
   "metadata": {},
   "outputs": [
    {
     "data": {
      "text/plain": [
       "<AxesSubplot:ylabel='Fuel_Type'>"
      ]
     },
     "execution_count": 20,
     "metadata": {},
     "output_type": "execute_result"
    },
    {
     "data": {
      "image/png": "[encoded data removed]",
      "text/plain": [
       "<Figure size 640x480 with 1 Axes>"
      ]
     },
     "metadata": {},
     "output_type": "display_data"
    }
   ],
   "source": [
    "df['Fuel_Type'].value_counts().plot.pie()"
   ]
  },
  {
   "cell_type": "code",
   "execution_count": 48,
   "metadata": {},
   "outputs": [],
   "source": [
    "list = list(df['Model'].value_counts()[:30].index)"
   ]
  },
  {
   "cell_type": "code",
   "execution_count": 43,
   "metadata": {},
   "outputs": [
    {
     "ename": "SyntaxError",
     "evalue": "invalid syntax (158584210.py, line 2)",
     "output_type": "error",
     "traceback": [
      "\u001b[1;36m  File \u001b[1;32m\"C:\\Users\\Administrator\\AppData\\Local\\Temp\\ipykernel_13804\\158584210.py\"\u001b[1;36m, line \u001b[1;32m2\u001b[0m\n\u001b[1;33m    global()['Val_{}'.format(i)] = df[df['Model'] == lis[i]]\u001b[0m\n\u001b[1;37m          ^\u001b[0m\n\u001b[1;31mSyntaxError\u001b[0m\u001b[1;31m:\u001b[0m invalid syntax\n"
     ]
    }
   ],
   "source": [
    "for i in range(len(lis)):\n",
    "    global()['Val_{}'.format(i)] = df[df['Model'] == lis[i]]"
   ]
  },
  {
   "cell_type": "code",
   "execution_count": 45,
   "metadata": {},
   "outputs": [
    {
     "data": {
      "text/plain": [
       "18.6                  59\n",
       "18.9                  51\n",
       "21.01                 49\n",
       "18.5                  37\n",
       "17.0                  25\n",
       "                      ..\n",
       "18.55                  1\n",
       "21.17                  1\n",
       "105 bhp @ 4400 RPM     1\n",
       "24.8                   1\n",
       "21.66                  1\n",
       "Name: Mileage(kmpl), Length: 153, dtype: int64"
      ]
     },
     "execution_count": 45,
     "metadata": {},
     "output_type": "execute_result"
    }
   ],
   "source": [
    "df['Mileage(kmpl)'].value_counts()"
   ]
  },
  {
   "cell_type": "code",
   "execution_count": 47,
   "metadata": {},
   "outputs": [
    {
     "data": {
      "text/plain": [
       "49279.0    4\n",
       "13185.0    4\n",
       "7122.0     4\n",
       "32604.0    4\n",
       "26653.0    4\n",
       "          ..\n",
       "74814.0    1\n",
       "24315.0    1\n",
       "63937.0    1\n",
       "11499.0    1\n",
       "41176.0    1\n",
       "Name: Mileage_Run, Length: 878, dtype: int64"
      ]
     },
     "execution_count": 47,
     "metadata": {},
     "output_type": "execute_result"
    }
   ],
   "source": [
    "df['Mileage_Run'].value_counts()\n"
   ]
  }
 ],
 "metadata": {
  "kernelspec": {
   "display_name": "Python 3.7.9 64-bit",
   "language": "python",
   "name": "python3"
  },
  "language_info": {
   "codemirror_mode": {
    "name": "ipython",
    "version": 3
   },
   "file_extension": ".py",
   "mimetype": "text/x-python",
   "name": "python",
   "nbconvert_exporter": "python",
   "pygments_lexer": "ipython3",
   "version": "3.7.9"
  },
  "orig_nbformat": 4,
  "vscode": {
   "interpreter": {
    "hash": "8382f28e82061b7c6bd0b6959868337863f20076c5b34ec32395bc8086b7cd85"
   }
  }
 },
 "nbformat": 4,
 "nbformat_minor": 2
}
