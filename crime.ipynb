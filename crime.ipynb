{
 "cells": [
  {
   "cell_type": "code",
   "execution_count": 1,
   "metadata": {},
   "outputs": [],
   "source": [
    "import pandas as pd\n",
    "try:\n",
    "    df = pd.read_excel('Crime.csv')\n",
    "except:\n",
    "    import xlwings as xw\n",
    "    df = xw.Book('Crime.csv')\n",
    "    df = df.sheets(1).used_range.options(pd.DataFrame, index = False).value\n",
    "    "
   ]
  },
  {
   "cell_type": "code",
   "execution_count": null,
   "metadata": {},
   "outputs": [],
   "source": [
    "import missingno as msno\n",
    "import plotly.express as px\n",
    "import numpy as np\n",
    "import seaborn as sns\n",
    "from plotly.subplots import make_subplots\n",
    "import plotly.graph_objects as go\n",
    "import matplotlib.pyplot as plt\n",
    "import datetime"
   ]
  },
  {
   "cell_type": "code",
   "execution_count": 2,
   "metadata": {},
   "outputs": [
    {
     "data": {
      "text/html": [
       "<div>\n",
       "<style scoped>\n",
       "    .dataframe tbody tr th:only-of-type {\n",
       "        vertical-align: middle;\n",
       "    }\n",
       "\n",
       "    .dataframe tbody tr th {\n",
       "        vertical-align: top;\n",
       "    }\n",
       "\n",
       "    .dataframe thead th {\n",
       "        text-align: right;\n",
       "    }\n",
       "</style>\n",
       "<table border=\"1\" class=\"dataframe\">\n",
       "  <thead>\n",
       "    <tr style=\"text-align: right;\">\n",
       "      <th></th>\n",
       "      <th>Incident ID</th>\n",
       "      <th>Offence Code</th>\n",
       "      <th>CR Number</th>\n",
       "      <th>Dispatch Date / Time</th>\n",
       "      <th>NIBRS Code</th>\n",
       "      <th>Victims</th>\n",
       "      <th>Crime Name1</th>\n",
       "      <th>Crime Name2</th>\n",
       "      <th>Crime Name3</th>\n",
       "      <th>Police District Name</th>\n",
       "      <th>...</th>\n",
       "      <th>Street Prefix</th>\n",
       "      <th>Street Name</th>\n",
       "      <th>Street Suffix</th>\n",
       "      <th>Street Type</th>\n",
       "      <th>Start_Date_Time</th>\n",
       "      <th>End_Date_Time</th>\n",
       "      <th>Latitude</th>\n",
       "      <th>Longitude</th>\n",
       "      <th>Police District Number</th>\n",
       "      <th>Location</th>\n",
       "    </tr>\n",
       "  </thead>\n",
       "  <tbody>\n",
       "    <tr>\n",
       "      <th>0</th>\n",
       "      <td>201223224.0</td>\n",
       "      <td>2303.0</td>\n",
       "      <td>190002520.0</td>\n",
       "      <td>01/16/2019 03:51:46 PM</td>\n",
       "      <td>23C</td>\n",
       "      <td>1.0</td>\n",
       "      <td>Crime Against Property</td>\n",
       "      <td>Shoplifting</td>\n",
       "      <td>LARCENY - SHOPLIFTING</td>\n",
       "      <td>WHEATON</td>\n",
       "      <td>...</td>\n",
       "      <td>None</td>\n",
       "      <td>VEIRS MILL</td>\n",
       "      <td>None</td>\n",
       "      <td>RD</td>\n",
       "      <td>01/16/2019 03:51:00 PM</td>\n",
       "      <td>None</td>\n",
       "      <td>39.037367</td>\n",
       "      <td>-77.051662</td>\n",
       "      <td>4D</td>\n",
       "      <td>(39.0374, -77.0517)</td>\n",
       "    </tr>\n",
       "    <tr>\n",
       "      <th>1</th>\n",
       "      <td>201224613.0</td>\n",
       "      <td>2006.0</td>\n",
       "      <td>190004310.0</td>\n",
       "      <td>01/27/2019 06:05:56 PM</td>\n",
       "      <td>200.0</td>\n",
       "      <td>1.0</td>\n",
       "      <td>Crime Against Property</td>\n",
       "      <td>Arson</td>\n",
       "      <td>ARSON - RESIDENTIAL</td>\n",
       "      <td>MONTGOMERY VILLAGE</td>\n",
       "      <td>...</td>\n",
       "      <td>None</td>\n",
       "      <td>GIRARD</td>\n",
       "      <td>None</td>\n",
       "      <td>ST</td>\n",
       "      <td>01/27/2019 06:05:00 PM</td>\n",
       "      <td>None</td>\n",
       "      <td>39.146531</td>\n",
       "      <td>-77.184940</td>\n",
       "      <td>6D</td>\n",
       "      <td>(39.1465, -77.1849)</td>\n",
       "    </tr>\n",
       "    <tr>\n",
       "      <th>2</th>\n",
       "      <td>201267200.0</td>\n",
       "      <td>1103.0</td>\n",
       "      <td>190057412.0</td>\n",
       "      <td>11/28/2019 06:08:02 AM</td>\n",
       "      <td>11A</td>\n",
       "      <td>1.0</td>\n",
       "      <td>Crime Against Person</td>\n",
       "      <td>Forcible Rape</td>\n",
       "      <td>RAPE - STRONG-ARM</td>\n",
       "      <td>WHEATON</td>\n",
       "      <td>...</td>\n",
       "      <td>None</td>\n",
       "      <td>GEORGIA</td>\n",
       "      <td>None</td>\n",
       "      <td>AVE</td>\n",
       "      <td>11/28/2019 06:08:00 AM</td>\n",
       "      <td>None</td>\n",
       "      <td>39.034255</td>\n",
       "      <td>-77.049163</td>\n",
       "      <td>4D</td>\n",
       "      <td>(39.0343, -77.0492)</td>\n",
       "    </tr>\n",
       "    <tr>\n",
       "      <th>3</th>\n",
       "      <td>201230900.0</td>\n",
       "      <td>1399.0</td>\n",
       "      <td>190011960.0</td>\n",
       "      <td>03/15/2019 10:53:22 AM</td>\n",
       "      <td>13B</td>\n",
       "      <td>2.0</td>\n",
       "      <td>Crime Against Person</td>\n",
       "      <td>Simple Assault</td>\n",
       "      <td>ASSAULT - 2ND DEGREE</td>\n",
       "      <td>MONTGOMERY VILLAGE</td>\n",
       "      <td>...</td>\n",
       "      <td>None</td>\n",
       "      <td>QUINCE ORCHARD</td>\n",
       "      <td>None</td>\n",
       "      <td>BLV</td>\n",
       "      <td>03/15/2019 10:50:00 AM</td>\n",
       "      <td>03/15/2019 10:55:00 AM</td>\n",
       "      <td>39.141812</td>\n",
       "      <td>-77.224489</td>\n",
       "      <td>6D</td>\n",
       "      <td>(39.1418, -77.2245)</td>\n",
       "    </tr>\n",
       "    <tr>\n",
       "      <th>4</th>\n",
       "      <td>201265312.0</td>\n",
       "      <td>1399.0</td>\n",
       "      <td>190055150.0</td>\n",
       "      <td>11/15/2019 03:31:20 PM</td>\n",
       "      <td>13B</td>\n",
       "      <td>1.0</td>\n",
       "      <td>Crime Against Person</td>\n",
       "      <td>Simple Assault</td>\n",
       "      <td>ASSAULT - 2ND DEGREE</td>\n",
       "      <td>MONTGOMERY VILLAGE</td>\n",
       "      <td>...</td>\n",
       "      <td>None</td>\n",
       "      <td>MIDCOUNTY</td>\n",
       "      <td>None</td>\n",
       "      <td>HWY</td>\n",
       "      <td>11/15/2019 03:20:00 PM</td>\n",
       "      <td>None</td>\n",
       "      <td>39.159339</td>\n",
       "      <td>-77.198516</td>\n",
       "      <td>6D</td>\n",
       "      <td>(39.1593, -77.1985)</td>\n",
       "    </tr>\n",
       "    <tr>\n",
       "      <th>...</th>\n",
       "      <td>...</td>\n",
       "      <td>...</td>\n",
       "      <td>...</td>\n",
       "      <td>...</td>\n",
       "      <td>...</td>\n",
       "      <td>...</td>\n",
       "      <td>...</td>\n",
       "      <td>...</td>\n",
       "      <td>...</td>\n",
       "      <td>...</td>\n",
       "      <td>...</td>\n",
       "      <td>...</td>\n",
       "      <td>...</td>\n",
       "      <td>...</td>\n",
       "      <td>...</td>\n",
       "      <td>...</td>\n",
       "      <td>...</td>\n",
       "      <td>...</td>\n",
       "      <td>...</td>\n",
       "      <td>...</td>\n",
       "      <td>...</td>\n",
       "    </tr>\n",
       "    <tr>\n",
       "      <th>225685</th>\n",
       "      <td>201248696.0</td>\n",
       "      <td>4104.0</td>\n",
       "      <td>190034187.0</td>\n",
       "      <td>07/18/2019 06:48:53 PM</td>\n",
       "      <td>90G</td>\n",
       "      <td>1.0</td>\n",
       "      <td>Crime Against Society</td>\n",
       "      <td>Liquor Law Violations</td>\n",
       "      <td>LIQUOR - POSSESS</td>\n",
       "      <td>ROCKVILLE</td>\n",
       "      <td>...</td>\n",
       "      <td>None</td>\n",
       "      <td>MEADOW HALL</td>\n",
       "      <td>None</td>\n",
       "      <td>DR</td>\n",
       "      <td>07/18/2019 06:48:00 PM</td>\n",
       "      <td>None</td>\n",
       "      <td>39.075179</td>\n",
       "      <td>-77.112958</td>\n",
       "      <td>1D</td>\n",
       "      <td>(39.0752, -77.113)</td>\n",
       "    </tr>\n",
       "    <tr>\n",
       "      <th>225686</th>\n",
       "      <td>201250353.0</td>\n",
       "      <td>2902.0</td>\n",
       "      <td>190036349.0</td>\n",
       "      <td>07/30/2019 04:39:04 PM</td>\n",
       "      <td>290.0</td>\n",
       "      <td>1.0</td>\n",
       "      <td>Crime Against Property</td>\n",
       "      <td>Destruction/Damage/Vandalism of Property</td>\n",
       "      <td>DAMAGE PROPERTY - PRIVATE</td>\n",
       "      <td>ROCKVILLE</td>\n",
       "      <td>...</td>\n",
       "      <td>None</td>\n",
       "      <td>CRABBS BRANCH</td>\n",
       "      <td>None</td>\n",
       "      <td>WAY</td>\n",
       "      <td>07/11/2019 03:00:00 PM</td>\n",
       "      <td>07/11/2019 11:13:00 PM</td>\n",
       "      <td>39.119276</td>\n",
       "      <td>-77.156921</td>\n",
       "      <td>1D</td>\n",
       "      <td>(39.1193, -77.1569)</td>\n",
       "    </tr>\n",
       "    <tr>\n",
       "      <th>225687</th>\n",
       "      <td>201250255.0</td>\n",
       "      <td>2305.0</td>\n",
       "      <td>190035784.0</td>\n",
       "      <td>07/27/2019 01:20:11 PM</td>\n",
       "      <td>23F</td>\n",
       "      <td>1.0</td>\n",
       "      <td>Crime Against Property</td>\n",
       "      <td>Theft From Motor Vehicle</td>\n",
       "      <td>LARCENY - FROM AUTO</td>\n",
       "      <td>WHEATON</td>\n",
       "      <td>...</td>\n",
       "      <td>None</td>\n",
       "      <td>BENTLEY</td>\n",
       "      <td>None</td>\n",
       "      <td>LA</td>\n",
       "      <td>07/19/2019 09:30:00 AM</td>\n",
       "      <td>07/27/2019 11:30:00 AM</td>\n",
       "      <td>39.030905</td>\n",
       "      <td>-77.057040</td>\n",
       "      <td>4D</td>\n",
       "      <td>(39.0309, -77.057)</td>\n",
       "    </tr>\n",
       "    <tr>\n",
       "      <th>225688</th>\n",
       "      <td>201243750.0</td>\n",
       "      <td>2203.0</td>\n",
       "      <td>190028212.0</td>\n",
       "      <td>06/13/2019 10:33:01 AM</td>\n",
       "      <td>220.0</td>\n",
       "      <td>1.0</td>\n",
       "      <td>Crime Against Property</td>\n",
       "      <td>Burglary/Breaking and Entering</td>\n",
       "      <td>BURGLARY - FORCED ENTRY-NONRESIDENTIAL</td>\n",
       "      <td>SILVER SPRING</td>\n",
       "      <td>...</td>\n",
       "      <td>None</td>\n",
       "      <td>SLIGO</td>\n",
       "      <td>None</td>\n",
       "      <td>AVE</td>\n",
       "      <td>06/13/2019 10:33:00 AM</td>\n",
       "      <td>06/13/2019 11:30:00 AM</td>\n",
       "      <td>38.990216</td>\n",
       "      <td>-77.024017</td>\n",
       "      <td>3D</td>\n",
       "      <td>(38.9902, -77.024)</td>\n",
       "    </tr>\n",
       "    <tr>\n",
       "      <th>225689</th>\n",
       "      <td>201244611.0</td>\n",
       "      <td>2309.0</td>\n",
       "      <td>190029400.0</td>\n",
       "      <td>06/19/2019 08:22:39 PM</td>\n",
       "      <td>23H</td>\n",
       "      <td>1.0</td>\n",
       "      <td>Crime Against Property</td>\n",
       "      <td>All other Larceny</td>\n",
       "      <td>LARCENY - FROM YARDS</td>\n",
       "      <td>SILVER SPRING</td>\n",
       "      <td>...</td>\n",
       "      <td>None</td>\n",
       "      <td>REGALWOOD</td>\n",
       "      <td>None</td>\n",
       "      <td>TER</td>\n",
       "      <td>04/19/2019 12:00:00 PM</td>\n",
       "      <td>06/19/2019 08:22:00 PM</td>\n",
       "      <td>39.098924</td>\n",
       "      <td>-76.920850</td>\n",
       "      <td>3D</td>\n",
       "      <td>(39.0989, -76.9208)</td>\n",
       "    </tr>\n",
       "  </tbody>\n",
       "</table>\n",
       "<p>225690 rows × 30 columns</p>\n",
       "</div>"
      ],
      "text/plain": [
       "        Incident ID Offence Code    CR Number    Dispatch Date / Time  \\\n",
       "0       201223224.0       2303.0  190002520.0  01/16/2019 03:51:46 PM   \n",
       "1       201224613.0       2006.0  190004310.0  01/27/2019 06:05:56 PM   \n",
       "2       201267200.0       1103.0  190057412.0  11/28/2019 06:08:02 AM   \n",
       "3       201230900.0       1399.0  190011960.0  03/15/2019 10:53:22 AM   \n",
       "4       201265312.0       1399.0  190055150.0  11/15/2019 03:31:20 PM   \n",
       "...             ...          ...          ...                     ...   \n",
       "225685  201248696.0       4104.0  190034187.0  07/18/2019 06:48:53 PM   \n",
       "225686  201250353.0       2902.0  190036349.0  07/30/2019 04:39:04 PM   \n",
       "225687  201250255.0       2305.0  190035784.0  07/27/2019 01:20:11 PM   \n",
       "225688  201243750.0       2203.0  190028212.0  06/13/2019 10:33:01 AM   \n",
       "225689  201244611.0       2309.0  190029400.0  06/19/2019 08:22:39 PM   \n",
       "\n",
       "       NIBRS Code  Victims             Crime Name1  \\\n",
       "0             23C      1.0  Crime Against Property   \n",
       "1           200.0      1.0  Crime Against Property   \n",
       "2             11A      1.0    Crime Against Person   \n",
       "3             13B      2.0    Crime Against Person   \n",
       "4             13B      1.0    Crime Against Person   \n",
       "...           ...      ...                     ...   \n",
       "225685        90G      1.0   Crime Against Society   \n",
       "225686      290.0      1.0  Crime Against Property   \n",
       "225687        23F      1.0  Crime Against Property   \n",
       "225688      220.0      1.0  Crime Against Property   \n",
       "225689        23H      1.0  Crime Against Property   \n",
       "\n",
       "                                     Crime Name2  \\\n",
       "0                                    Shoplifting   \n",
       "1                                          Arson   \n",
       "2                                  Forcible Rape   \n",
       "3                                 Simple Assault   \n",
       "4                                 Simple Assault   \n",
       "...                                          ...   \n",
       "225685                     Liquor Law Violations   \n",
       "225686  Destruction/Damage/Vandalism of Property   \n",
       "225687                  Theft From Motor Vehicle   \n",
       "225688            Burglary/Breaking and Entering   \n",
       "225689                         All other Larceny   \n",
       "\n",
       "                                   Crime Name3 Police District Name  ...  \\\n",
       "0                        LARCENY - SHOPLIFTING              WHEATON  ...   \n",
       "1                          ARSON - RESIDENTIAL   MONTGOMERY VILLAGE  ...   \n",
       "2                            RAPE - STRONG-ARM              WHEATON  ...   \n",
       "3                         ASSAULT - 2ND DEGREE   MONTGOMERY VILLAGE  ...   \n",
       "4                         ASSAULT - 2ND DEGREE   MONTGOMERY VILLAGE  ...   \n",
       "...                                        ...                  ...  ...   \n",
       "225685                        LIQUOR - POSSESS            ROCKVILLE  ...   \n",
       "225686               DAMAGE PROPERTY - PRIVATE            ROCKVILLE  ...   \n",
       "225687                     LARCENY - FROM AUTO              WHEATON  ...   \n",
       "225688  BURGLARY - FORCED ENTRY-NONRESIDENTIAL        SILVER SPRING  ...   \n",
       "225689                    LARCENY - FROM YARDS        SILVER SPRING  ...   \n",
       "\n",
       "       Street Prefix     Street Name Street Suffix  Street Type  \\\n",
       "0               None      VEIRS MILL          None           RD   \n",
       "1               None          GIRARD          None           ST   \n",
       "2               None         GEORGIA          None          AVE   \n",
       "3               None  QUINCE ORCHARD          None          BLV   \n",
       "4               None       MIDCOUNTY          None          HWY   \n",
       "...              ...             ...           ...          ...   \n",
       "225685          None     MEADOW HALL          None           DR   \n",
       "225686          None   CRABBS BRANCH          None          WAY   \n",
       "225687          None         BENTLEY          None           LA   \n",
       "225688          None           SLIGO          None          AVE   \n",
       "225689          None       REGALWOOD          None          TER   \n",
       "\n",
       "               Start_Date_Time           End_Date_Time   Latitude  Longitude  \\\n",
       "0       01/16/2019 03:51:00 PM                    None  39.037367 -77.051662   \n",
       "1       01/27/2019 06:05:00 PM                    None  39.146531 -77.184940   \n",
       "2       11/28/2019 06:08:00 AM                    None  39.034255 -77.049163   \n",
       "3       03/15/2019 10:50:00 AM  03/15/2019 10:55:00 AM  39.141812 -77.224489   \n",
       "4       11/15/2019 03:20:00 PM                    None  39.159339 -77.198516   \n",
       "...                        ...                     ...        ...        ...   \n",
       "225685  07/18/2019 06:48:00 PM                    None  39.075179 -77.112958   \n",
       "225686  07/11/2019 03:00:00 PM  07/11/2019 11:13:00 PM  39.119276 -77.156921   \n",
       "225687  07/19/2019 09:30:00 AM  07/27/2019 11:30:00 AM  39.030905 -77.057040   \n",
       "225688  06/13/2019 10:33:00 AM  06/13/2019 11:30:00 AM  38.990216 -77.024017   \n",
       "225689  04/19/2019 12:00:00 PM  06/19/2019 08:22:00 PM  39.098924 -76.920850   \n",
       "\n",
       "       Police District Number             Location  \n",
       "0                          4D  (39.0374, -77.0517)  \n",
       "1                          6D  (39.1465, -77.1849)  \n",
       "2                          4D  (39.0343, -77.0492)  \n",
       "3                          6D  (39.1418, -77.2245)  \n",
       "4                          6D  (39.1593, -77.1985)  \n",
       "...                       ...                  ...  \n",
       "225685                     1D   (39.0752, -77.113)  \n",
       "225686                     1D  (39.1193, -77.1569)  \n",
       "225687                     4D   (39.0309, -77.057)  \n",
       "225688                     3D   (38.9902, -77.024)  \n",
       "225689                     3D  (39.0989, -76.9208)  \n",
       "\n",
       "[225690 rows x 30 columns]"
      ]
     },
     "execution_count": 2,
     "metadata": {},
     "output_type": "execute_result"
    }
   ],
   "source": [
    "df"
   ]
  },
  {
   "cell_type": "code",
   "execution_count": 5,
   "metadata": {},
   "outputs": [
    {
     "data": {
      "text/plain": [
       "Incident ID                    0\n",
       "Offence Code                   0\n",
       "CR Number                      0\n",
       "Dispatch Date / Time       68799\n",
       "NIBRS Code                     0\n",
       "Victims                        0\n",
       "Crime Name1                  141\n",
       "Crime Name2                  141\n",
       "Crime Name3                  141\n",
       "Police District Name           0\n",
       "Block Address              20502\n",
       "City                        1057\n",
       "State                          0\n",
       "Zip Code                    3187\n",
       "Agency                         0\n",
       "Place                          0\n",
       "Sector                        59\n",
       "Beat                          61\n",
       "PRA                           41\n",
       "Address Number             20428\n",
       "Street Prefix             215741\n",
       "Street Name                    0\n",
       "Street Suffix             221447\n",
       "Street Type                  314\n",
       "Start_Date_Time                0\n",
       "End_Date_Time             116652\n",
       "Latitude                       0\n",
       "Longitude                      0\n",
       "Police District Number         0\n",
       "Location                       0\n",
       "dtype: int64"
      ]
     },
     "execution_count": 5,
     "metadata": {},
     "output_type": "execute_result"
    }
   ],
   "source": [
    "df.isnull().sum()"
   ]
  },
  {
   "cell_type": "code",
   "execution_count": 7,
   "metadata": {},
   "outputs": [
    {
     "data": {
      "text/plain": [
       "<AxesSubplot:>"
      ]
     },
     "execution_count": 7,
     "metadata": {},
     "output_type": "execute_result"
    },
    {
     "data": {
      "image/png": "[encoded data removed]",
      "text/plain": [
       "<Figure size 2500x1000 with 2 Axes>"
      ]
     },
     "metadata": {},
     "output_type": "display_data"
    }
   ],
   "source": [
    "# 결측치 시각화\n",
    "msno.matrix(df)"
   ]
  },
  {
   "cell_type": "code",
   "execution_count": 9,
   "metadata": {},
   "outputs": [],
   "source": [
    "#결측치 많은 컬럼 제거\n",
    "df.drop(['Dispatch Date / Time', 'Block Address', 'Address Number', 'Street Prefix', 'Street Suffix', 'End_Date_Time'], axis=1, inplace=True)"
   ]
  },
  {
   "cell_type": "code",
   "execution_count": 11,
   "metadata": {},
   "outputs": [
    {
     "data": {
      "text/plain": [
       "<AxesSubplot:>"
      ]
     },
     "execution_count": 11,
     "metadata": {},
     "output_type": "execute_result"
    },
    {
     "data": {
      "image/png": "[encoded data removed]",
      "text/plain": [
       "<Figure size 2500x1000 with 2 Axes>"
      ]
     },
     "metadata": {},
     "output_type": "display_data"
    }
   ],
   "source": [
    "msno.matrix(df)"
   ]
  },
  {
   "cell_type": "code",
   "execution_count": 30,
   "metadata": {},
   "outputs": [
    {
     "name": "stdout",
     "output_type": "stream",
     "text": [
      "<class 'pandas.core.frame.DataFrame'>\n",
      "RangeIndex: 225690 entries, 0 to 225689\n",
      "Data columns (total 24 columns):\n",
      " #   Column                  Non-Null Count   Dtype  \n",
      "---  ------                  --------------   -----  \n",
      " 0   Incident ID             225690 non-null  float64\n",
      " 1   Offence Code            225690 non-null  object \n",
      " 2   CR Number               225690 non-null  float64\n",
      " 3   NIBRS Code              225690 non-null  object \n",
      " 4   Victims                 225690 non-null  float64\n",
      " 5   Crime Name1             225549 non-null  object \n",
      " 6   Crime Name2             225549 non-null  object \n",
      " 7   Crime Name3             225549 non-null  object \n",
      " 8   Police District Name    225690 non-null  object \n",
      " 9   City                    224633 non-null  object \n",
      " 10  State                   225690 non-null  object \n",
      " 11  Zip Code                222503 non-null  float64\n",
      " 12  Agency                  225690 non-null  object \n",
      " 13  Place                   225690 non-null  object \n",
      " 14  Sector                  225631 non-null  object \n",
      " 15  Beat                    225629 non-null  object \n",
      " 16  PRA                     225649 non-null  object \n",
      " 17  Street Name             225690 non-null  object \n",
      " 18  Street Type             225376 non-null  object \n",
      " 19  Start_Date_Time         225690 non-null  object \n",
      " 20  Latitude                225690 non-null  float64\n",
      " 21  Longitude               225690 non-null  float64\n",
      " 22  Police District Number  225690 non-null  object \n",
      " 23  Location                225690 non-null  object \n",
      "dtypes: float64(6), object(18)\n",
      "memory usage: 41.3+ MB\n"
     ]
    }
   ],
   "source": [
    "df.info()"
   ]
  },
  {
   "cell_type": "code",
   "execution_count": 12,
   "metadata": {},
   "outputs": [
    {
     "data": {
      "text/plain": [
       "Crime Against Property    98217\n",
       "Crime Against Society     58535\n",
       "Other                     45164\n",
       "Crime Against Person      20916\n",
       "Not a Crime                2717\n",
       "Name: Crime Name1, dtype: int64"
      ]
     },
     "execution_count": 12,
     "metadata": {},
     "output_type": "execute_result"
    }
   ],
   "source": [
    "df['Crime Name1'].value_counts()"
   ]
  },
  {
   "cell_type": "code",
   "execution_count": 14,
   "metadata": {},
   "outputs": [
    {
     "data": {
      "application/vnd.plotly.v1+json": {
       "config": {
        "plotlyServerURL": "https://plot.ly"
       },
       "data": [
        {
         "domain": {
          "x": [
           0,
           1
          ],
          "y": [
           0,
           1
          ]
         },
         "hovertemplate": "label=%{label}<br>value=%{value}<extra></extra>",
         "labels": [
          "Crime Against Property",
          "Crime Against Society",
          "Other",
          "Crime Against Person",
          "Not a Crime"
         ],
         "legendgroup": "",
         "name": "",
         "showlegend": true,
         "type": "pie",
         "values": [
          98217,
          58535,
          45164,
          20916,
          2717
         ]
        }
       ],
       "layout": {
        "legend": {
         "tracegroupgap": 0
        },
        "template": {
         "data": {
          "bar": [
           {
            "error_x": {
             "color": "#2a3f5f"
            },
            "error_y": {
             "color": "#2a3f5f"
            },
            "marker": {
             "line": {
              "color": "#E5ECF6",
              "width": 0.5
             },
             "pattern": {
              "fillmode": "overlay",
              "size": 10,
              "solidity": 0.2
             }
            },
            "type": "bar"
           }
          ],
          "barpolar": [
           {
            "marker": {
             "line": {
              "color": "#E5ECF6",
              "width": 0.5
             },
             "pattern": {
              "fillmode": "overlay",
              "size": 10,
              "solidity": 0.2
             }
            },
            "type": "barpolar"
           }
          ],
          "carpet": [
           {
            "aaxis": {
             "endlinecolor": "#2a3f5f",
             "gridcolor": "white",
             "linecolor": "white",
             "minorgridcolor": "white",
             "startlinecolor": "#2a3f5f"
            },
            "baxis": {
             "endlinecolor": "#2a3f5f",
             "gridcolor": "white",
             "linecolor": "white",
             "minorgridcolor": "white",
             "startlinecolor": "#2a3f5f"
            },
            "type": "carpet"
           }
          ],
          "choropleth": [
           {
            "colorbar": {
             "outlinewidth": 0,
             "ticks": ""
            },
            "type": "choropleth"
           }
          ],
          "contour": [
           {
            "colorbar": {
             "outlinewidth": 0,
             "ticks": ""
            },
            "colorscale": [
             [
              0,
              "#0d0887"
             ],
             [
              0.1111111111111111,
              "#46039f"
             ],
             [
              0.2222222222222222,
              "#7201a8"
             ],
             [
              0.3333333333333333,
              "#9c179e"
             ],
             [
              0.4444444444444444,
              "#bd3786"
             ],
             [
              0.5555555555555556,
              "#d8576b"
             ],
             [
              0.6666666666666666,
              "#ed7953"
             ],
             [
              0.7777777777777778,
              "#fb9f3a"
             ],
             [
              0.8888888888888888,
              "#fdca26"
             ],
             [
              1,
              "#f0f921"
             ]
            ],
            "type": "contour"
           }
          ],
          "contourcarpet": [
           {
            "colorbar": {
             "outlinewidth": 0,
             "ticks": ""
            },
            "type": "contourcarpet"
           }
          ],
          "heatmap": [
           {
            "colorbar": {
             "outlinewidth": 0,
             "ticks": ""
            },
            "colorscale": [
             [
              0,
              "#0d0887"
             ],
             [
              0.1111111111111111,
              "#46039f"
             ],
             [
              0.2222222222222222,
              "#7201a8"
             ],
             [
              0.3333333333333333,
              "#9c179e"
             ],
             [
              0.4444444444444444,
              "#bd3786"
             ],
             [
              0.5555555555555556,
              "#d8576b"
             ],
             [
              0.6666666666666666,
              "#ed7953"
             ],
             [
              0.7777777777777778,
              "#fb9f3a"
             ],
             [
              0.8888888888888888,
              "#fdca26"
             ],
             [
              1,
              "#f0f921"
             ]
            ],
            "type": "heatmap"
           }
          ],
          "heatmapgl": [
           {
            "colorbar": {
             "outlinewidth": 0,
             "ticks": ""
            },
            "colorscale": [
             [
              0,
              "#0d0887"
             ],
             [
              0.1111111111111111,
              "#46039f"
             ],
             [
              0.2222222222222222,
              "#7201a8"
             ],
             [
              0.3333333333333333,
              "#9c179e"
             ],
             [
              0.4444444444444444,
              "#bd3786"
             ],
             [
              0.5555555555555556,
              "#d8576b"
             ],
             [
              0.6666666666666666,
              "#ed7953"
             ],
             [
              0.7777777777777778,
              "#fb9f3a"
             ],
             [
              0.8888888888888888,
              "#fdca26"
             ],
             [
              1,
              "#f0f921"
             ]
            ],
            "type": "heatmapgl"
           }
          ],
          "histogram": [
           {
            "marker": {
             "pattern": {
              "fillmode": "overlay",
              "size": 10,
              "solidity": 0.2
             }
            },
            "type": "histogram"
           }
          ],
          "histogram2d": [
           {
            "colorbar": {
             "outlinewidth": 0,
             "ticks": ""
            },
            "colorscale": [
             [
              0,
              "#0d0887"
             ],
             [
              0.1111111111111111,
              "#46039f"
             ],
             [
              0.2222222222222222,
              "#7201a8"
             ],
             [
              0.3333333333333333,
              "#9c179e"
             ],
             [
              0.4444444444444444,
              "#bd3786"
             ],
             [
              0.5555555555555556,
              "#d8576b"
             ],
             [
              0.6666666666666666,
              "#ed7953"
             ],
             [
              0.7777777777777778,
              "#fb9f3a"
             ],
             [
              0.8888888888888888,
              "#fdca26"
             ],
             [
              1,
              "#f0f921"
             ]
            ],
            "type": "histogram2d"
           }
          ],
          "histogram2dcontour": [
           {
            "colorbar": {
             "outlinewidth": 0,
             "ticks": ""
            },
            "colorscale": [
             [
              0,
              "#0d0887"
             ],
             [
              0.1111111111111111,
              "#46039f"
             ],
             [
              0.2222222222222222,
              "#7201a8"
             ],
             [
              0.3333333333333333,
              "#9c179e"
             ],
             [
              0.4444444444444444,
              "#bd3786"
             ],
             [
              0.5555555555555556,
              "#d8576b"
             ],
             [
              0.6666666666666666,
              "#ed7953"
             ],
             [
              0.7777777777777778,
              "#fb9f3a"
             ],
             [
              0.8888888888888888,
              "#fdca26"
             ],
             [
              1,
              "#f0f921"
             ]
            ],
            "type": "histogram2dcontour"
           }
          ],
          "mesh3d": [
           {
            "colorbar": {
             "outlinewidth": 0,
             "ticks": ""
            },
            "type": "mesh3d"
           }
          ],
          "parcoords": [
           {
            "line": {
             "colorbar": {
              "outlinewidth": 0,
              "ticks": ""
             }
            },
            "type": "parcoords"
           }
          ],
          "pie": [
           {
            "automargin": true,
            "type": "pie"
           }
          ],
          "scatter": [
           {
            "fillpattern": {
             "fillmode": "overlay",
             "size": 10,
             "solidity": 0.2
            },
            "type": "scatter"
           }
          ],
          "scatter3d": [
           {
            "line": {
             "colorbar": {
              "outlinewidth": 0,
              "ticks": ""
             }
            },
            "marker": {
             "colorbar": {
              "outlinewidth": 0,
              "ticks": ""
             }
            },
            "type": "scatter3d"
           }
          ],
          "scattercarpet": [
           {
            "marker": {
             "colorbar": {
              "outlinewidth": 0,
              "ticks": ""
             }
            },
            "type": "scattercarpet"
           }
          ],
          "scattergeo": [
           {
            "marker": {
             "colorbar": {
              "outlinewidth": 0,
              "ticks": ""
             }
            },
            "type": "scattergeo"
           }
          ],
          "scattergl": [
           {
            "marker": {
             "colorbar": {
              "outlinewidth": 0,
              "ticks": ""
             }
            },
            "type": "scattergl"
           }
          ],
          "scattermapbox": [
           {
            "marker": {
             "colorbar": {
              "outlinewidth": 0,
              "ticks": ""
             }
            },
            "type": "scattermapbox"
           }
          ],
          "scatterpolar": [
           {
            "marker": {
             "colorbar": {
              "outlinewidth": 0,
              "ticks": ""
             }
            },
            "type": "scatterpolar"
           }
          ],
          "scatterpolargl": [
           {
            "marker": {
             "colorbar": {
              "outlinewidth": 0,
              "ticks": ""
             }
            },
            "type": "scatterpolargl"
           }
          ],
          "scatterternary": [
           {
            "marker": {
             "colorbar": {
              "outlinewidth": 0,
              "ticks": ""
             }
            },
            "type": "scatterternary"
           }
          ],
          "surface": [
           {
            "colorbar": {
             "outlinewidth": 0,
             "ticks": ""
            },
            "colorscale": [
             [
              0,
              "#0d0887"
             ],
             [
              0.1111111111111111,
              "#46039f"
             ],
             [
              0.2222222222222222,
              "#7201a8"
             ],
             [
              0.3333333333333333,
              "#9c179e"
             ],
             [
              0.4444444444444444,
              "#bd3786"
             ],
             [
              0.5555555555555556,
              "#d8576b"
             ],
             [
              0.6666666666666666,
              "#ed7953"
             ],
             [
              0.7777777777777778,
              "#fb9f3a"
             ],
             [
              0.8888888888888888,
              "#fdca26"
             ],
             [
              1,
              "#f0f921"
             ]
            ],
            "type": "surface"
           }
          ],
          "table": [
           {
            "cells": {
             "fill": {
              "color": "#EBF0F8"
             },
             "line": {
              "color": "white"
             }
            },
            "header": {
             "fill": {
              "color": "#C8D4E3"
             },
             "line": {
              "color": "white"
             }
            },
            "type": "table"
           }
          ]
         },
         "layout": {
          "annotationdefaults": {
           "arrowcolor": "#2a3f5f",
           "arrowhead": 0,
           "arrowwidth": 1
          },
          "autotypenumbers": "strict",
          "coloraxis": {
           "colorbar": {
            "outlinewidth": 0,
            "ticks": ""
           }
          },
          "colorscale": {
           "diverging": [
            [
             0,
             "#8e0152"
            ],
            [
             0.1,
             "#c51b7d"
            ],
            [
             0.2,
             "#de77ae"
            ],
            [
             0.3,
             "#f1b6da"
            ],
            [
             0.4,
             "#fde0ef"
            ],
            [
             0.5,
             "#f7f7f7"
            ],
            [
             0.6,
             "#e6f5d0"
            ],
            [
             0.7,
             "#b8e186"
            ],
            [
             0.8,
             "#7fbc41"
            ],
            [
             0.9,
             "#4d9221"
            ],
            [
             1,
             "#276419"
            ]
           ],
           "sequential": [
            [
             0,
             "#0d0887"
            ],
            [
             0.1111111111111111,
             "#46039f"
            ],
            [
             0.2222222222222222,
             "#7201a8"
            ],
            [
             0.3333333333333333,
             "#9c179e"
            ],
            [
             0.4444444444444444,
             "#bd3786"
            ],
            [
             0.5555555555555556,
             "#d8576b"
            ],
            [
             0.6666666666666666,
             "#ed7953"
            ],
            [
             0.7777777777777778,
             "#fb9f3a"
            ],
            [
             0.8888888888888888,
             "#fdca26"
            ],
            [
             1,
             "#f0f921"
            ]
           ],
           "sequentialminus": [
            [
             0,
             "#0d0887"
            ],
            [
             0.1111111111111111,
             "#46039f"
            ],
            [
             0.2222222222222222,
             "#7201a8"
            ],
            [
             0.3333333333333333,
             "#9c179e"
            ],
            [
             0.4444444444444444,
             "#bd3786"
            ],
            [
             0.5555555555555556,
             "#d8576b"
            ],
            [
             0.6666666666666666,
             "#ed7953"
            ],
            [
             0.7777777777777778,
             "#fb9f3a"
            ],
            [
             0.8888888888888888,
             "#fdca26"
            ],
            [
             1,
             "#f0f921"
            ]
           ]
          },
          "colorway": [
           "#636efa",
           "#EF553B",
           "#00cc96",
           "#ab63fa",
           "#FFA15A",
           "#19d3f3",
           "#FF6692",
           "#B6E880",
           "#FF97FF",
           "#FECB52"
          ],
          "font": {
           "color": "#2a3f5f"
          },
          "geo": {
           "bgcolor": "white",
           "lakecolor": "white",
           "landcolor": "#E5ECF6",
           "showlakes": true,
           "showland": true,
           "subunitcolor": "white"
          },
          "hoverlabel": {
           "align": "left"
          },
          "hovermode": "closest",
          "mapbox": {
           "style": "light"
          },
          "paper_bgcolor": "white",
          "plot_bgcolor": "#E5ECF6",
          "polar": {
           "angularaxis": {
            "gridcolor": "white",
            "linecolor": "white",
            "ticks": ""
           },
           "bgcolor": "#E5ECF6",
           "radialaxis": {
            "gridcolor": "white",
            "linecolor": "white",
            "ticks": ""
           }
          },
          "scene": {
           "xaxis": {
            "backgroundcolor": "#E5ECF6",
            "gridcolor": "white",
            "gridwidth": 2,
            "linecolor": "white",
            "showbackground": true,
            "ticks": "",
            "zerolinecolor": "white"
           },
           "yaxis": {
            "backgroundcolor": "#E5ECF6",
            "gridcolor": "white",
            "gridwidth": 2,
            "linecolor": "white",
            "showbackground": true,
            "ticks": "",
            "zerolinecolor": "white"
           },
           "zaxis": {
            "backgroundcolor": "#E5ECF6",
            "gridcolor": "white",
            "gridwidth": 2,
            "linecolor": "white",
            "showbackground": true,
            "ticks": "",
            "zerolinecolor": "white"
           }
          },
          "shapedefaults": {
           "line": {
            "color": "#2a3f5f"
           }
          },
          "ternary": {
           "aaxis": {
            "gridcolor": "white",
            "linecolor": "white",
            "ticks": ""
           },
           "baxis": {
            "gridcolor": "white",
            "linecolor": "white",
            "ticks": ""
           },
           "bgcolor": "#E5ECF6",
           "caxis": {
            "gridcolor": "white",
            "linecolor": "white",
            "ticks": ""
           }
          },
          "title": {
           "x": 0.05
          },
          "xaxis": {
           "automargin": true,
           "gridcolor": "white",
           "linecolor": "white",
           "ticks": "",
           "title": {
            "standoff": 15
           },
           "zerolinecolor": "white",
           "zerolinewidth": 2
          },
          "yaxis": {
           "automargin": true,
           "gridcolor": "white",
           "linecolor": "white",
           "ticks": "",
           "title": {
            "standoff": 15
           },
           "zerolinecolor": "white",
           "zerolinewidth": 2
          }
         }
        },
        "title": {
         "text": "범죄명1 title"
        }
       }
      }
     },
     "metadata": {},
     "output_type": "display_data"
    }
   ],
   "source": [
    "px.pie(values=df['Crime Name1'].value_counts().values, names=df['Crime Name1'].value_counts().index, title=\"범죄명1 title\")"
   ]
  },
  {
   "cell_type": "code",
   "execution_count": 22,
   "metadata": {},
   "outputs": [
    {
     "data": {
      "text/plain": [
       "All Other Offenses                             52181\n",
       "Drug/Narcotic Violations                       20920\n",
       "Theft From Motor Vehicle                       19682\n",
       "Simple Assault                                 14881\n",
       "Destruction/Damage/Vandalism of Property       13659\n",
       "Driving Under the Influence                    12056\n",
       "Shoplifting                                    11554\n",
       "All other Larceny                              10199\n",
       "Theft from Building                             8406\n",
       "Burglary/Breaking and Entering                  6547\n",
       "Liquor Law Violations                           6263\n",
       "Identity Theft                                  4444\n",
       "Disorderly Conduct                              4415\n",
       "False Pretenses/Swindle/Confidence Game         4267\n",
       "Motor Vehicle Theft                             4099\n",
       "Theft of Motor Vehicle Parts or Accessories     3717\n",
       "Trespass of Real Property                       3303\n",
       "Credit Card/Automatic Teller Machine Fraud      3113\n",
       "Aggravated Assault                              2845\n",
       "Runaway                                         2717\n",
       "Robbery                                         2630\n",
       "Counterfeiting/Forgery                          2014\n",
       "Drug Equipment Violations                       1693\n",
       "Weapon Law Violations                           1558\n",
       "Impersonation                                   1509\n",
       "Forcible Rape                                    927\n",
       "Fondling                                         705\n",
       "Family Offenses, NonViolent                      569\n",
       "Pocket/picking                                   490\n",
       "Forcible Sodomy                                  365\n",
       "Intimidation                                     346\n",
       "Forcible Fondling                                336\n",
       "Embezzlement                                     331\n",
       "Purse-snatching                                  309\n",
       "Bad Checks                                       298\n",
       "Sexual Assault With An Object                    246\n",
       "Arson                                            238\n",
       "Extortion/Blackmail                              226\n",
       "Not Mapped                                       216\n",
       "Pornography/Obscene Material                     185\n",
       "NOT NIBRS CODE                                   176\n",
       "Stolen Property Offenses                         176\n",
       "Wire Fraud                                       168\n",
       "Prostitution                                     147\n",
       "Drunkenness                                       84\n",
       "Peeping Tom                                       80\n",
       "Murder and Nonnegligent Manslaughter              74\n",
       "Kidnapping/Abduction                              49\n",
       "From Coin/Operated Machine or Device              47\n",
       "Human Trafficking, Commercial Sex Acts            36\n",
       "Curfew/Loitering/Vagrancy Violations              31\n",
       "Assisting or Promoting Prostitution               13\n",
       "Justifiable Homicide                               6\n",
       "Negligent Manslaughter                             1\n",
       "Welfare Fraud                                      1\n",
       "Operating/Promoting/Assisting Gambling             1\n",
       "Name: Crime Name2, dtype: int64"
      ]
     },
     "execution_count": 22,
     "metadata": {},
     "output_type": "execute_result"
    }
   ],
   "source": [
    "df['Crime Name2'].value_counts()"
   ]
  },
  {
   "cell_type": "code",
   "execution_count": 26,
   "metadata": {},
   "outputs": [
    {
     "data": {
      "text/plain": [
       "All Other Offenses                             52181\n",
       "Drug/Narcotic Violations                       20920\n",
       "Theft From Motor Vehicle                       19682\n",
       "Simple Assault                                 14881\n",
       "Destruction/Damage/Vandalism of Property       13659\n",
       "Driving Under the Influence                    12056\n",
       "Shoplifting                                    11554\n",
       "All other Larceny                              10199\n",
       "Theft from Building                             8406\n",
       "Burglary/Breaking and Entering                  6547\n",
       "Liquor Law Violations                           6263\n",
       "Identity Theft                                  4444\n",
       "Disorderly Conduct                              4415\n",
       "False Pretenses/Swindle/Confidence Game         4267\n",
       "Motor Vehicle Theft                             4099\n",
       "Theft of Motor Vehicle Parts or Accessories     3717\n",
       "Trespass of Real Property                       3303\n",
       "Credit Card/Automatic Teller Machine Fraud      3113\n",
       "Aggravated Assault                              2845\n",
       "Runaway                                         2717\n",
       "Robbery                                         2630\n",
       "Counterfeiting/Forgery                          2014\n",
       "Drug Equipment Violations                       1693\n",
       "Weapon Law Violations                           1558\n",
       "Impersonation                                   1509\n",
       "Forcible Rape                                    927\n",
       "Fondling                                         705\n",
       "Family Offenses, NonViolent                      569\n",
       "Pocket/picking                                   490\n",
       "Forcible Sodomy                                  365\n",
       "Intimidation                                     346\n",
       "Forcible Fondling                                336\n",
       "Embezzlement                                     331\n",
       "Purse-snatching                                  309\n",
       "Bad Checks                                       298\n",
       "Sexual Assault With An Object                    246\n",
       "Arson                                            238\n",
       "Extortion/Blackmail                              226\n",
       "Not Mapped                                       216\n",
       "Pornography/Obscene Material                     185\n",
       "NOT NIBRS CODE                                   176\n",
       "Stolen Property Offenses                         176\n",
       "Wire Fraud                                       168\n",
       "Prostitution                                     147\n",
       "Drunkenness                                       84\n",
       "Peeping Tom                                       80\n",
       "Murder and Nonnegligent Manslaughter              74\n",
       "Kidnapping/Abduction                              49\n",
       "From Coin/Operated Machine or Device              47\n",
       "Human Trafficking, Commercial Sex Acts            36\n",
       "Curfew/Loitering/Vagrancy Violations              31\n",
       "Assisting or Promoting Prostitution               13\n",
       "Justifiable Homicide                               6\n",
       "Negligent Manslaughter                             1\n",
       "Welfare Fraud                                      1\n",
       "Operating/Promoting/Assisting Gambling             1\n",
       "Name: Crime Name2, dtype: int64"
      ]
     },
     "execution_count": 26,
     "metadata": {},
     "output_type": "execute_result"
    }
   ],
   "source": [
    "df['Crime Name2'].value_counts()"
   ]
  },
  {
   "cell_type": "code",
   "execution_count": 20,
   "metadata": {},
   "outputs": [
    {
     "data": {
      "text/plain": [
       "LARCENY - FROM AUTO                       19682\n",
       "DRUGS - MARIJUANA - POSSESS               14401\n",
       "POLICE INFORMATION                        12783\n",
       "ASSAULT - 2ND DEGREE                      12187\n",
       "LARCENY - SHOPLIFTING                     11554\n",
       "                                          ...  \n",
       "STOLEN PROPERTY - TRANSPORT INTERSTATE        1\n",
       "WEAPON - ALTERING IDENTIFICATION ON           1\n",
       "LIQUOR - MANUFACTURE                          1\n",
       "GAMBLING - DICE GAME                          1\n",
       "COMM SEX OFF - KEEPING HOUSE ILL FAME         1\n",
       "Name: Crime Name3, Length: 325, dtype: int64"
      ]
     },
     "execution_count": 20,
     "metadata": {},
     "output_type": "execute_result"
    }
   ],
   "source": [
    "df['Crime Name3'].value_counts()"
   ]
  },
  {
   "cell_type": "code",
   "execution_count": 48,
   "metadata": {},
   "outputs": [],
   "source": [
    "times = list(df['Start_Date_Time'].values)\n",
    "month = [int(i.split(' ')[0][0:2]) for i in times]\n",
    "day = [int(i.split(' ')[0][3:5]) for i in times]\n",
    "year = [int(i.split(' ')[0][6:]) for i in times]\n",
    "date = [i.split(' ')[0] for i in times]\n",
    "\n",
    "# weekday = [datetime.datetime(int(year[i]), int(month[i]), int(day[i])).weekday() for i in range(len(year))]\n",
    "weekday = [datetime.datetime(int(date[i])).weekday() for i in range(len(year))]\n",
    "df['Weekday'] = weekday\n",
    "\n",
    "hour = [int(i.split(' ')[1].split(':')[0]) for i in times]\n",
    "for i in range(len(times)):\n",
    "    if times[i].split(' ')[-1]=='PM' and hour[i]!=12 and hour[i]!=0:\n",
    "        hour[i] = hour[i]+12 \n",
    "    elif times[i].split(' ')[-1]=='AM' and hour[i]== 12:\n",
    "        hour[i]=0\n",
    "        \n",
    "df['Hour'] = hour\n",
    "df['Month'] = month\n",
    "df['Year'] = year\n",
    "df['Date'] = pd.to_datetime(date)\n",
    "df = df.sort_values(by='Date')"
   ]
  },
  {
   "cell_type": "code",
   "execution_count": 45,
   "metadata": {},
   "outputs": [
    {
     "data": {
      "text/html": [
       "<div>\n",
       "<style scoped>\n",
       "    .dataframe tbody tr th:only-of-type {\n",
       "        vertical-align: middle;\n",
       "    }\n",
       "\n",
       "    .dataframe tbody tr th {\n",
       "        vertical-align: top;\n",
       "    }\n",
       "\n",
       "    .dataframe thead th {\n",
       "        text-align: right;\n",
       "    }\n",
       "</style>\n",
       "<table border=\"1\" class=\"dataframe\">\n",
       "  <thead>\n",
       "    <tr style=\"text-align: right;\">\n",
       "      <th></th>\n",
       "      <th>Incident ID</th>\n",
       "      <th>Offence Code</th>\n",
       "      <th>CR Number</th>\n",
       "      <th>NIBRS Code</th>\n",
       "      <th>Victims</th>\n",
       "      <th>Crime Name1</th>\n",
       "      <th>Crime Name2</th>\n",
       "      <th>Crime Name3</th>\n",
       "      <th>Police District Name</th>\n",
       "      <th>City</th>\n",
       "      <th>...</th>\n",
       "      <th>Police District Number</th>\n",
       "      <th>Location</th>\n",
       "      <th>Month</th>\n",
       "      <th>day</th>\n",
       "      <th>year</th>\n",
       "      <th>time</th>\n",
       "      <th>Hour</th>\n",
       "      <th>Year</th>\n",
       "      <th>Date</th>\n",
       "      <th>Weekday</th>\n",
       "    </tr>\n",
       "  </thead>\n",
       "  <tbody>\n",
       "    <tr>\n",
       "      <th>135634</th>\n",
       "      <td>201087333.0</td>\n",
       "      <td>9101.0</td>\n",
       "      <td>16033355.0</td>\n",
       "      <td>90Z</td>\n",
       "      <td>1.0</td>\n",
       "      <td>Other</td>\n",
       "      <td>All Other Offenses</td>\n",
       "      <td>SUDDEN DEATH</td>\n",
       "      <td>WHEATON</td>\n",
       "      <td>SILVER SPRING</td>\n",
       "      <td>...</td>\n",
       "      <td>4D</td>\n",
       "      <td>(39.0257, -77.021)</td>\n",
       "      <td>7</td>\n",
       "      <td>01</td>\n",
       "      <td>2016</td>\n",
       "      <td>04</td>\n",
       "      <td>16</td>\n",
       "      <td>2016</td>\n",
       "      <td>2016-07-01</td>\n",
       "      <td>4</td>\n",
       "    </tr>\n",
       "    <tr>\n",
       "      <th>61254</th>\n",
       "      <td>201102727.0</td>\n",
       "      <td>9105.0</td>\n",
       "      <td>16052672.0</td>\n",
       "      <td>90Z</td>\n",
       "      <td>1.0</td>\n",
       "      <td>Other</td>\n",
       "      <td>All Other Offenses</td>\n",
       "      <td>LOST PROPERTY</td>\n",
       "      <td>MONTGOMERY VILLAGE</td>\n",
       "      <td>GAITHERSBURG</td>\n",
       "      <td>...</td>\n",
       "      <td>6D</td>\n",
       "      <td>(39.1607, -77.1451)</td>\n",
       "      <td>7</td>\n",
       "      <td>01</td>\n",
       "      <td>2016</td>\n",
       "      <td>12</td>\n",
       "      <td>0</td>\n",
       "      <td>2016</td>\n",
       "      <td>2016-07-01</td>\n",
       "      <td>4</td>\n",
       "    </tr>\n",
       "    <tr>\n",
       "      <th>53111</th>\n",
       "      <td>201094540.0</td>\n",
       "      <td>2604.0</td>\n",
       "      <td>16042278.0</td>\n",
       "      <td>26C</td>\n",
       "      <td>1.0</td>\n",
       "      <td>Crime Against Property</td>\n",
       "      <td>Impersonation</td>\n",
       "      <td>FRAUD - IMPERSONATION</td>\n",
       "      <td>BETHESDA</td>\n",
       "      <td>CHEVY CHASE</td>\n",
       "      <td>...</td>\n",
       "      <td>2D</td>\n",
       "      <td>(38.98, -77.093)</td>\n",
       "      <td>7</td>\n",
       "      <td>01</td>\n",
       "      <td>2016</td>\n",
       "      <td>11</td>\n",
       "      <td>11</td>\n",
       "      <td>2016</td>\n",
       "      <td>2016-07-01</td>\n",
       "      <td>4</td>\n",
       "    </tr>\n",
       "    <tr>\n",
       "      <th>62097</th>\n",
       "      <td>201103549.0</td>\n",
       "      <td>2699.0</td>\n",
       "      <td>16053730.0</td>\n",
       "      <td>26A</td>\n",
       "      <td>1.0</td>\n",
       "      <td>Crime Against Property</td>\n",
       "      <td>False Pretenses/Swindle/Confidence Game</td>\n",
       "      <td>FRAUD (DESCRIBE OFFENSE)</td>\n",
       "      <td>ROCKVILLE</td>\n",
       "      <td>ROCKVILLE</td>\n",
       "      <td>...</td>\n",
       "      <td>1D</td>\n",
       "      <td>(39.0705, -77.1215)</td>\n",
       "      <td>7</td>\n",
       "      <td>01</td>\n",
       "      <td>2016</td>\n",
       "      <td>12</td>\n",
       "      <td>0</td>\n",
       "      <td>2016</td>\n",
       "      <td>2016-07-01</td>\n",
       "      <td>4</td>\n",
       "    </tr>\n",
       "    <tr>\n",
       "      <th>52923</th>\n",
       "      <td>201094346.0</td>\n",
       "      <td>2604.0</td>\n",
       "      <td>16042011.0</td>\n",
       "      <td>26C</td>\n",
       "      <td>1.0</td>\n",
       "      <td>Crime Against Property</td>\n",
       "      <td>Impersonation</td>\n",
       "      <td>FRAUD - IMPERSONATION</td>\n",
       "      <td>SILVER SPRING</td>\n",
       "      <td>SILVER SPRING</td>\n",
       "      <td>...</td>\n",
       "      <td>3D</td>\n",
       "      <td>(39.014, -77.0125)</td>\n",
       "      <td>7</td>\n",
       "      <td>01</td>\n",
       "      <td>2016</td>\n",
       "      <td>12</td>\n",
       "      <td>12</td>\n",
       "      <td>2016</td>\n",
       "      <td>2016-07-01</td>\n",
       "      <td>4</td>\n",
       "    </tr>\n",
       "    <tr>\n",
       "      <th>...</th>\n",
       "      <td>...</td>\n",
       "      <td>...</td>\n",
       "      <td>...</td>\n",
       "      <td>...</td>\n",
       "      <td>...</td>\n",
       "      <td>...</td>\n",
       "      <td>...</td>\n",
       "      <td>...</td>\n",
       "      <td>...</td>\n",
       "      <td>...</td>\n",
       "      <td>...</td>\n",
       "      <td>...</td>\n",
       "      <td>...</td>\n",
       "      <td>...</td>\n",
       "      <td>...</td>\n",
       "      <td>...</td>\n",
       "      <td>...</td>\n",
       "      <td>...</td>\n",
       "      <td>...</td>\n",
       "      <td>...</td>\n",
       "      <td>...</td>\n",
       "    </tr>\n",
       "    <tr>\n",
       "      <th>130350</th>\n",
       "      <td>201307418.0</td>\n",
       "      <td>2699.0</td>\n",
       "      <td>200042544.0</td>\n",
       "      <td>26A</td>\n",
       "      <td>1.0</td>\n",
       "      <td>Crime Against Property</td>\n",
       "      <td>False Pretenses/Swindle/Confidence Game</td>\n",
       "      <td>FRAUD (DESCRIBE OFFENSE)</td>\n",
       "      <td>CITY OF TAKOMA PARK</td>\n",
       "      <td>TAKOMA PARK</td>\n",
       "      <td>...</td>\n",
       "      <td>8D</td>\n",
       "      <td>(38.9848, -76.9963)</td>\n",
       "      <td>10</td>\n",
       "      <td>28</td>\n",
       "      <td>2020</td>\n",
       "      <td>01</td>\n",
       "      <td>13</td>\n",
       "      <td>2020</td>\n",
       "      <td>2020-10-28</td>\n",
       "      <td>2</td>\n",
       "    </tr>\n",
       "    <tr>\n",
       "      <th>129654</th>\n",
       "      <td>201307348.0</td>\n",
       "      <td>1399.0</td>\n",
       "      <td>200042468.0</td>\n",
       "      <td>13B</td>\n",
       "      <td>1.0</td>\n",
       "      <td>Crime Against Person</td>\n",
       "      <td>Simple Assault</td>\n",
       "      <td>ASSAULT - 2ND DEGREE</td>\n",
       "      <td>GERMANTOWN</td>\n",
       "      <td>GERMANTOWN</td>\n",
       "      <td>...</td>\n",
       "      <td>5D</td>\n",
       "      <td>(39.1671, -77.2635)</td>\n",
       "      <td>10</td>\n",
       "      <td>28</td>\n",
       "      <td>2020</td>\n",
       "      <td>01</td>\n",
       "      <td>1</td>\n",
       "      <td>2020</td>\n",
       "      <td>2020-10-28</td>\n",
       "      <td>2</td>\n",
       "    </tr>\n",
       "    <tr>\n",
       "      <th>130057</th>\n",
       "      <td>201307386.0</td>\n",
       "      <td>9105.0</td>\n",
       "      <td>200042515.0</td>\n",
       "      <td>90Z</td>\n",
       "      <td>1.0</td>\n",
       "      <td>Other</td>\n",
       "      <td>All Other Offenses</td>\n",
       "      <td>LOST PROPERTY</td>\n",
       "      <td>WHEATON</td>\n",
       "      <td>SILVER SPRING</td>\n",
       "      <td>...</td>\n",
       "      <td>4D</td>\n",
       "      <td>(39.0361, -77.0501)</td>\n",
       "      <td>10</td>\n",
       "      <td>28</td>\n",
       "      <td>2020</td>\n",
       "      <td>09</td>\n",
       "      <td>9</td>\n",
       "      <td>2020</td>\n",
       "      <td>2020-10-28</td>\n",
       "      <td>2</td>\n",
       "    </tr>\n",
       "    <tr>\n",
       "      <th>129228</th>\n",
       "      <td>201307406.0</td>\n",
       "      <td>2611.0</td>\n",
       "      <td>200042543.0</td>\n",
       "      <td>26G</td>\n",
       "      <td>1.0</td>\n",
       "      <td>None</td>\n",
       "      <td>None</td>\n",
       "      <td>None</td>\n",
       "      <td>GERMANTOWN</td>\n",
       "      <td>CLARKSBURG</td>\n",
       "      <td>...</td>\n",
       "      <td>5D</td>\n",
       "      <td>(39.2436, -77.2745)</td>\n",
       "      <td>10</td>\n",
       "      <td>28</td>\n",
       "      <td>2020</td>\n",
       "      <td>11</td>\n",
       "      <td>11</td>\n",
       "      <td>2020</td>\n",
       "      <td>2020-10-28</td>\n",
       "      <td>2</td>\n",
       "    </tr>\n",
       "    <tr>\n",
       "      <th>130172</th>\n",
       "      <td>201307392.0</td>\n",
       "      <td>2611.0</td>\n",
       "      <td>200042524.0</td>\n",
       "      <td>26G</td>\n",
       "      <td>1.0</td>\n",
       "      <td>None</td>\n",
       "      <td>None</td>\n",
       "      <td>None</td>\n",
       "      <td>WHEATON</td>\n",
       "      <td>SILVER SPRING</td>\n",
       "      <td>...</td>\n",
       "      <td>4D</td>\n",
       "      <td>(39.0415, -77.0517)</td>\n",
       "      <td>10</td>\n",
       "      <td>28</td>\n",
       "      <td>2020</td>\n",
       "      <td>11</td>\n",
       "      <td>11</td>\n",
       "      <td>2020</td>\n",
       "      <td>2020-10-28</td>\n",
       "      <td>2</td>\n",
       "    </tr>\n",
       "  </tbody>\n",
       "</table>\n",
       "<p>225690 rows × 32 columns</p>\n",
       "</div>"
      ],
      "text/plain": [
       "        Incident ID Offence Code    CR Number NIBRS Code  Victims  \\\n",
       "135634  201087333.0       9101.0   16033355.0        90Z      1.0   \n",
       "61254   201102727.0       9105.0   16052672.0        90Z      1.0   \n",
       "53111   201094540.0       2604.0   16042278.0        26C      1.0   \n",
       "62097   201103549.0       2699.0   16053730.0        26A      1.0   \n",
       "52923   201094346.0       2604.0   16042011.0        26C      1.0   \n",
       "...             ...          ...          ...        ...      ...   \n",
       "130350  201307418.0       2699.0  200042544.0        26A      1.0   \n",
       "129654  201307348.0       1399.0  200042468.0        13B      1.0   \n",
       "130057  201307386.0       9105.0  200042515.0        90Z      1.0   \n",
       "129228  201307406.0       2611.0  200042543.0        26G      1.0   \n",
       "130172  201307392.0       2611.0  200042524.0        26G      1.0   \n",
       "\n",
       "                   Crime Name1                              Crime Name2  \\\n",
       "135634                   Other                       All Other Offenses   \n",
       "61254                    Other                       All Other Offenses   \n",
       "53111   Crime Against Property                            Impersonation   \n",
       "62097   Crime Against Property  False Pretenses/Swindle/Confidence Game   \n",
       "52923   Crime Against Property                            Impersonation   \n",
       "...                        ...                                      ...   \n",
       "130350  Crime Against Property  False Pretenses/Swindle/Confidence Game   \n",
       "129654    Crime Against Person                           Simple Assault   \n",
       "130057                   Other                       All Other Offenses   \n",
       "129228                    None                                     None   \n",
       "130172                    None                                     None   \n",
       "\n",
       "                     Crime Name3 Police District Name           City  ...  \\\n",
       "135634              SUDDEN DEATH              WHEATON  SILVER SPRING  ...   \n",
       "61254              LOST PROPERTY   MONTGOMERY VILLAGE   GAITHERSBURG  ...   \n",
       "53111      FRAUD - IMPERSONATION             BETHESDA    CHEVY CHASE  ...   \n",
       "62097   FRAUD (DESCRIBE OFFENSE)            ROCKVILLE      ROCKVILLE  ...   \n",
       "52923      FRAUD - IMPERSONATION        SILVER SPRING  SILVER SPRING  ...   \n",
       "...                          ...                  ...            ...  ...   \n",
       "130350  FRAUD (DESCRIBE OFFENSE)  CITY OF TAKOMA PARK    TAKOMA PARK  ...   \n",
       "129654      ASSAULT - 2ND DEGREE           GERMANTOWN     GERMANTOWN  ...   \n",
       "130057             LOST PROPERTY              WHEATON  SILVER SPRING  ...   \n",
       "129228                      None           GERMANTOWN     CLARKSBURG  ...   \n",
       "130172                      None              WHEATON  SILVER SPRING  ...   \n",
       "\n",
       "       Police District Number             Location Month day  year time Hour  \\\n",
       "135634                     4D   (39.0257, -77.021)     7  01  2016   04   16   \n",
       "61254                      6D  (39.1607, -77.1451)     7  01  2016   12    0   \n",
       "53111                      2D     (38.98, -77.093)     7  01  2016   11   11   \n",
       "62097                      1D  (39.0705, -77.1215)     7  01  2016   12    0   \n",
       "52923                      3D   (39.014, -77.0125)     7  01  2016   12   12   \n",
       "...                       ...                  ...   ...  ..   ...  ...  ...   \n",
       "130350                     8D  (38.9848, -76.9963)    10  28  2020   01   13   \n",
       "129654                     5D  (39.1671, -77.2635)    10  28  2020   01    1   \n",
       "130057                     4D  (39.0361, -77.0501)    10  28  2020   09    9   \n",
       "129228                     5D  (39.2436, -77.2745)    10  28  2020   11   11   \n",
       "130172                     4D  (39.0415, -77.0517)    10  28  2020   11   11   \n",
       "\n",
       "        Year       Date Weekday  \n",
       "135634  2016 2016-07-01       4  \n",
       "61254   2016 2016-07-01       4  \n",
       "53111   2016 2016-07-01       4  \n",
       "62097   2016 2016-07-01       4  \n",
       "52923   2016 2016-07-01       4  \n",
       "...      ...        ...     ...  \n",
       "130350  2020 2020-10-28       2  \n",
       "129654  2020 2020-10-28       2  \n",
       "130057  2020 2020-10-28       2  \n",
       "129228  2020 2020-10-28       2  \n",
       "130172  2020 2020-10-28       2  \n",
       "\n",
       "[225690 rows x 32 columns]"
      ]
     },
     "execution_count": 45,
     "metadata": {},
     "output_type": "execute_result"
    }
   ],
   "source": [
    "df"
   ]
  },
  {
   "cell_type": "code",
   "execution_count": 47,
   "metadata": {},
   "outputs": [
    {
     "data": {
      "text/plain": [
       "4    35759\n",
       "2    33592\n",
       "3    33418\n",
       "1    33267\n",
       "0    31141\n",
       "5    30550\n",
       "6    27963\n",
       "Name: Weekday, dtype: int64"
      ]
     },
     "execution_count": 47,
     "metadata": {},
     "output_type": "execute_result"
    }
   ],
   "source": [
    "df['Weekday'].value_counts()"
   ]
  },
  {
   "cell_type": "code",
   "execution_count": null,
   "metadata": {},
   "outputs": [],
   "source": []
  }
 ],
 "metadata": {
  "kernelspec": {
   "display_name": "Python 3.7.9 64-bit",
   "language": "python",
   "name": "python3"
  },
  "language_info": {
   "codemirror_mode": {
    "name": "ipython",
    "version": 3
   },
   "file_extension": ".py",
   "mimetype": "text/x-python",
   "name": "python",
   "nbconvert_exporter": "python",
   "pygments_lexer": "ipython3",
   "version": "3.7.9"
  },
  "orig_nbformat": 4,
  "vscode": {
   "interpreter": {
    "hash": "8382f28e82061b7c6bd0b6959868337863f20076c5b34ec32395bc8086b7cd85"
   }
  }
 },
 "nbformat": 4,
 "nbformat_minor": 2
}
